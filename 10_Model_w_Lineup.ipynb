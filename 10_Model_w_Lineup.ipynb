{
 "cells": [
  {
   "cell_type": "markdown",
   "id": "b592dc01-15bc-44fd-a8c0-eda005056fac",
   "metadata": {},
   "source": [
    "## Add Lineup to Model\n",
    "- ### Last time we scraped individual batter data for the 6400+ players who have appeared in a starting lineup between 1980 and 2022.\n",
    "- ### We then processed the data to get statistics about the trailing performance of each of the players before each game in which they started.\n",
    "- ### Using this, we were able to get features related to each player that could be used to predict each game.  We then averaged across the lineup in several different ways to come up with a variety of lineup related statistics.\n",
    "- ### Now, we will add these features to the model and see how much improvement we get"
   ]
  },
  {
   "cell_type": "code",
   "execution_count": null,
   "id": "44b99737-5421-498c-875b-bdb7c1f9c22c",
   "metadata": {},
   "outputs": [],
   "source": []
  },
  {
   "cell_type": "code",
   "execution_count": 1,
   "id": "c3156859-b802-4717-9acc-304a4cb5acd3",
   "metadata": {},
   "outputs": [],
   "source": [
    "import numpy as np\n",
    "import pandas as pd\n",
    "import matplotlib.pyplot as plt\n",
    "\n",
    "import lightgbm as lgbm\n",
    "import structureboost as stb\n",
    "import ml_insights as mli\n",
    "from structureboost import log_loss\n",
    "pd.set_option('display.max_columns',1000)\n",
    "pd.set_option('display.max_rows',1000)"
   ]
  },
  {
   "cell_type": "code",
   "execution_count": 2,
   "id": "aa383f4c-12b8-4b1f-82ec-b01ab9e0f18d",
   "metadata": {},
   "outputs": [
    {
     "name": "stderr",
     "output_type": "stream",
     "text": [
      "/Users/brianlucena/.pyenv/versions/3.9.13/envs/ds3913/lib/python3.9/site-packages/IPython/core/interactiveshell.py:3398: DtypeWarning: Columns (13,14,15,19,85,87,159,206) have mixed types.Specify dtype option on import or set low_memory=False.\n",
      "  exec(code_obj, self.user_global_ns, self.user_ns)\n"
     ]
    }
   ],
   "source": [
    "df=pd.read_csv('df_bp9.csv')"
   ]
  },
  {
   "cell_type": "markdown",
   "id": "30a37991-6f16-4728-af33-09aa7bb10fc3",
   "metadata": {},
   "source": [
    "## Begin Modeling"
   ]
  },
  {
   "cell_type": "code",
   "execution_count": 3,
   "id": "e6449d10-5eab-44e0-807e-80612fd3c717",
   "metadata": {},
   "outputs": [],
   "source": [
    "df = df[df.run_diff!=0]\n",
    "df_train = df[(df.season>1980) & (df.season<=2018) & ~(df.OBP_162_h.isnull())]\n",
    "df_valid = df[(df.season>=2019) & (df.season<=2020)]\n",
    "df_test = df[df.season>=2021]\n",
    "df_test_val = df[df.season>=2019]"
   ]
  },
  {
   "cell_type": "code",
   "execution_count": 4,
   "id": "2742e4bc-5047-4eef-a827-07a4e6c5a5a6",
   "metadata": {},
   "outputs": [
    {
     "data": {
      "text/plain": [
       "(96213, 1243)"
      ]
     },
     "execution_count": 4,
     "metadata": {},
     "output_type": "execute_result"
    }
   ],
   "source": [
    "df.shape"
   ]
  },
  {
   "cell_type": "code",
   "execution_count": 5,
   "id": "1a7f81c3-c787-4bc6-88aa-fada4f3cacdf",
   "metadata": {},
   "outputs": [],
   "source": [
    "hv_mean = df_train.home_victory.mean()"
   ]
  },
  {
   "cell_type": "markdown",
   "id": "d6c22876-12ea-4ea8-a9d4-cb1e59e9c8d4",
   "metadata": {},
   "source": [
    "## Let's add in some lineup features"
   ]
  },
  {
   "cell_type": "code",
   "execution_count": 6,
   "id": "8aaca1af-5ac8-489b-9714-dc02774eac61",
   "metadata": {},
   "outputs": [],
   "source": [
    "target = 'home_victory'\n",
    "\n",
    "y_train = df_train[target].to_numpy()\n",
    "y_valid = df_valid[target].to_numpy()\n",
    "y_test = df_test[target].to_numpy()\n"
   ]
  },
  {
   "cell_type": "code",
   "execution_count": 7,
   "id": "7a1121d9-1c55-4b1d-8b4b-26ae9268f729",
   "metadata": {},
   "outputs": [],
   "source": [
    "def try_features(feat_set, max_depth=2):\n",
    "    target = 'home_victory'\n",
    "    X_train = df_train.loc[:,feat_set]\n",
    "    X_valid = df_valid.loc[:,feat_set]\n",
    "    X_test = df_test.loc[:,feat_set]\n",
    "\n",
    "\n",
    "\n",
    "    lgbm1 = lgbm.LGBMClassifier(n_estimators=1000, learning_rate=.02, max_depth=max_depth)\n",
    "    lgbm1.fit(X_train, y_train, eval_set=(X_valid, y_valid), eval_metric='logloss', \n",
    "          callbacks=[lgbm.early_stopping(stopping_rounds=50)])\n",
    "    \n",
    "    preds_lgbm_test = lgbm1.predict_proba(X_test)[:,1]\n",
    "    ll_test = log_loss(y_test, preds_lgbm_test)\n",
    "\n",
    "    print(f'\\nVegas probs: {log_loss(y_test,df_test.implied_prob_h_mid)} on test')\n",
    "    print(f'model probs: {ll_test} on test')\n",
    "\n",
    "    print(f'\\nDifference: {ll_test - log_loss(y_test,df_test.implied_prob_h_mid)} on test')\n",
    "\n",
    "    sv_lgbm = lgbm1.predict(X_test, pred_contrib=True)\n",
    "    sv_lgbm = pd.DataFrame(sv_lgbm)\n",
    "    sv_lgbm.columns = list(X_test.columns)+['Intercept']\n",
    "    sv_vec = sv_lgbm.abs().mean().sort_values(ascending=False)\n",
    "    print('\\nAvg Shap Vals')\n",
    "    \n",
    "    print(sv_vec)\n",
    "    out_dict={}\n",
    "    out_dict['ll_test'] = ll_test\n",
    "    out_dict['model'] = lgbm1\n",
    "    out_dict['shap_val_avgs'] = sv_vec\n",
    "    out_dict['preds_test'] = preds_lgbm_test\n",
    "    return(out_dict)"
   ]
  },
  {
   "cell_type": "markdown",
   "id": "8d7d553c-5777-45f8-b494-89e42770e597",
   "metadata": {
    "tags": []
   },
   "source": [
    "### First, let's revisit our best model from our last modeling session"
   ]
  },
  {
   "cell_type": "code",
   "execution_count": 8,
   "id": "75e95a60-9aac-486d-a94d-2e945eaba016",
   "metadata": {
    "tags": []
   },
   "outputs": [],
   "source": [
    "features0 = ['OBP_162_h','OBP_162_v',\n",
    "            'SLG_162_h','SLG_162_v',\n",
    "            'Strt_WHIP_35_h','Strt_WHIP_35_v',\n",
    "            'Strt_TB_BB_perc_35_h', 'Strt_TB_BB_perc_35_v',\n",
    "            'Strt_H_BB_perc_35_h', 'Strt_H_BB_perc_35_v',\n",
    "            'Strt_SO_perc_10_h', 'Strt_SO_perc_10_v',\n",
    "            'Bpen_WHIP_75_h','Bpen_WHIP_75_v',\n",
    "            'Bpen_TB_BB_perc_75_h', 'Bpen_TB_BB_perc_75_v',\n",
    "            'Bpen_H_BB_perc_75_h', 'Bpen_H_BB_perc_75_v',\n",
    "            'Bpen_SO_perc_75_h', 'Bpen_SO_perc_75_v',\n",
    "            'Bpen_WHIP_35_h','Bpen_WHIP_35_v',\n",
    "            'Bpen_TB_BB_perc_35_h', 'Bpen_TB_BB_perc_35_v',\n",
    "            'Bpen_H_BB_perc_35_h', 'Bpen_H_BB_perc_35_v',\n",
    "            'Bpen_SO_perc_35_h', 'Bpen_SO_perc_35_v',\n",
    "            'Bpen_WHIP_10_h','Bpen_WHIP_10_v',\n",
    "            'Bpen_TB_BB_perc_10_h', 'Bpen_TB_BB_perc_10_v',\n",
    "            'Bpen_H_BB_perc_10_h', 'Bpen_H_BB_perc_10_v',\n",
    "            'Bpen_SO_perc_10_h', 'Bpen_SO_perc_10_v']"
   ]
  },
  {
   "cell_type": "code",
   "execution_count": 9,
   "id": "c3f4063e-dc74-4774-adbe-07ff6177508b",
   "metadata": {
    "scrolled": true,
    "tags": []
   },
   "outputs": [
    {
     "name": "stdout",
     "output_type": "stream",
     "text": [
      "Training until validation scores don't improve for 50 rounds\n",
      "Early stopping, best iteration is:\n",
      "[628]\tvalid_0's binary_logloss: 0.67291\n",
      "\n",
      "Vegas probs: 0.6675629431340582 on test\n",
      "model probs: 0.6714216560589157 on test\n",
      "\n",
      "Difference: 0.0038587129248575103 on test\n",
      "\n",
      "Avg Shap Vals\n",
      "Intercept               0.159380\n",
      "Strt_SO_perc_10_h       0.081908\n",
      "Strt_SO_perc_10_v       0.080985\n",
      "OBP_162_v               0.063181\n",
      "Strt_WHIP_35_v          0.053390\n",
      "Strt_WHIP_35_h          0.050850\n",
      "OBP_162_h               0.049462\n",
      "SLG_162_h               0.043181\n",
      "Strt_TB_BB_perc_35_h    0.038065\n",
      "SLG_162_v               0.036927\n",
      "Strt_TB_BB_perc_35_v    0.028336\n",
      "Bpen_SO_perc_75_v       0.026247\n",
      "Bpen_TB_BB_perc_75_h    0.021284\n",
      "Strt_H_BB_perc_35_v     0.020384\n",
      "Strt_H_BB_perc_35_h     0.019739\n",
      "Bpen_H_BB_perc_75_h     0.018050\n",
      "Bpen_H_BB_perc_35_v     0.015877\n",
      "Bpen_TB_BB_perc_75_v    0.015706\n",
      "Bpen_H_BB_perc_35_h     0.015220\n",
      "Bpen_TB_BB_perc_10_v    0.012679\n",
      "Bpen_H_BB_perc_75_v     0.010479\n",
      "Bpen_SO_perc_35_v       0.009404\n",
      "Bpen_SO_perc_75_h       0.009362\n",
      "Bpen_TB_BB_perc_35_v    0.007993\n",
      "Bpen_SO_perc_10_v       0.006927\n",
      "Bpen_WHIP_10_v          0.006797\n",
      "Bpen_SO_perc_35_h       0.004728\n",
      "Bpen_WHIP_75_v          0.003353\n",
      "Bpen_WHIP_35_h          0.002318\n",
      "Bpen_TB_BB_perc_35_h    0.002240\n",
      "Bpen_H_BB_perc_10_h     0.001381\n",
      "Bpen_WHIP_75_h          0.001168\n",
      "Bpen_TB_BB_perc_10_h    0.000676\n",
      "Bpen_WHIP_10_h          0.000531\n",
      "Bpen_WHIP_35_v          0.000414\n",
      "Bpen_SO_perc_10_h       0.000385\n",
      "Bpen_H_BB_perc_10_v     0.000333\n",
      "dtype: float64\n"
     ]
    }
   ],
   "source": [
    "d0 = try_features(features0)"
   ]
  },
  {
   "cell_type": "code",
   "execution_count": 10,
   "id": "4068282a-9cfb-4b6b-9f81-2ee67d214dca",
   "metadata": {
    "scrolled": true,
    "tags": []
   },
   "outputs": [],
   "source": [
    "f_lineup_a = [\n",
    "            'lineup9_OBP_162_h','lineup9_OBP_162_v',\n",
    "            'lineup9_SLG_162_h','lineup9_SLG_162_v',\n",
    "]\n",
    "\n",
    "features1 = features0 + f_lineup_a\n"
   ]
  },
  {
   "cell_type": "code",
   "execution_count": 11,
   "id": "255172b0-2866-4ba9-a22b-669da8deec3b",
   "metadata": {
    "scrolled": true,
    "tags": []
   },
   "outputs": [
    {
     "name": "stdout",
     "output_type": "stream",
     "text": [
      "Training until validation scores don't improve for 50 rounds\n",
      "Early stopping, best iteration is:\n",
      "[659]\tvalid_0's binary_logloss: 0.672518\n",
      "\n",
      "Vegas probs: 0.6675629431340582 on test\n",
      "model probs: 0.6704894111097865 on test\n",
      "\n",
      "Difference: 0.002926467975728375 on test\n",
      "\n",
      "Avg Shap Vals\n",
      "Intercept               0.159588\n",
      "Strt_SO_perc_10_v       0.080178\n",
      "Strt_SO_perc_10_h       0.078812\n",
      "Strt_WHIP_35_v          0.050874\n",
      "Strt_WHIP_35_h          0.048810\n",
      "OBP_162_v               0.045688\n",
      "lineup9_SLG_162_v       0.045168\n",
      "lineup9_OBP_162_h       0.039442\n",
      "Strt_TB_BB_perc_35_h    0.037768\n",
      "OBP_162_h               0.032853\n",
      "lineup9_OBP_162_v       0.030682\n",
      "SLG_162_h               0.029387\n",
      "Strt_TB_BB_perc_35_v    0.027945\n",
      "lineup9_SLG_162_h       0.027430\n",
      "Bpen_SO_perc_75_v       0.021938\n",
      "Bpen_H_BB_perc_75_h     0.018009\n",
      "Bpen_TB_BB_perc_75_h    0.017956\n",
      "Strt_H_BB_perc_35_v     0.017458\n",
      "SLG_162_v               0.016291\n",
      "Bpen_TB_BB_perc_75_v    0.016095\n",
      "Bpen_H_BB_perc_35_v     0.016020\n",
      "Strt_H_BB_perc_35_h     0.015918\n",
      "Bpen_H_BB_perc_35_h     0.015900\n",
      "Bpen_TB_BB_perc_10_v    0.012326\n",
      "Bpen_H_BB_perc_75_v     0.007463\n",
      "Bpen_SO_perc_35_v       0.007081\n",
      "Bpen_SO_perc_10_v       0.006988\n",
      "Bpen_WHIP_10_v          0.006735\n",
      "Bpen_TB_BB_perc_35_v    0.006574\n",
      "Bpen_SO_perc_75_h       0.006389\n",
      "Bpen_SO_perc_35_h       0.003188\n",
      "Bpen_WHIP_75_v          0.002948\n",
      "Bpen_H_BB_perc_10_h     0.002086\n",
      "Bpen_WHIP_35_h          0.001449\n",
      "Bpen_TB_BB_perc_35_h    0.001049\n",
      "Bpen_WHIP_75_h          0.000890\n",
      "Bpen_TB_BB_perc_10_h    0.000571\n",
      "Bpen_WHIP_10_h          0.000539\n",
      "Bpen_WHIP_35_v          0.000489\n",
      "Bpen_H_BB_perc_10_v     0.000415\n",
      "Bpen_SO_perc_10_h       0.000206\n",
      "dtype: float64\n"
     ]
    }
   ],
   "source": [
    "d1 = try_features(features1)"
   ]
  },
  {
   "cell_type": "markdown",
   "id": "3cf12817-8aca-48d5-b692-f154b10f6c23",
   "metadata": {},
   "source": [
    "## For comparison sake, let's use the individual batters instead"
   ]
  },
  {
   "cell_type": "code",
   "execution_count": 12,
   "id": "dbafd7f6-12c1-42ce-907a-70c2cbd0bf56",
   "metadata": {},
   "outputs": [],
   "source": [
    "slg_indiv_cols = [x for x in df.columns if '_b' in x and 'SLG_162' in x]\n",
    "obp_indiv_cols = [x for x in df.columns if '_b' in x and 'OBP_162' in x]\n"
   ]
  },
  {
   "cell_type": "code",
   "execution_count": 13,
   "id": "f1aa987c-3f8a-4b3d-a7f9-5322d798bfce",
   "metadata": {
    "scrolled": true,
    "tags": []
   },
   "outputs": [
    {
     "name": "stdout",
     "output_type": "stream",
     "text": [
      "Training until validation scores don't improve for 50 rounds\n",
      "Early stopping, best iteration is:\n",
      "[793]\tvalid_0's binary_logloss: 0.672896\n",
      "\n",
      "Vegas probs: 0.6675629431340582 on test\n",
      "model probs: 0.6709181092849407 on test\n",
      "\n",
      "Difference: 0.0033551661508824937 on test\n",
      "\n",
      "Avg Shap Vals\n",
      "Intercept               0.159589\n",
      "Strt_SO_perc_10_h       0.077299\n",
      "Strt_SO_perc_10_v       0.075361\n",
      "Strt_WHIP_35_v          0.052747\n",
      "Strt_WHIP_35_h          0.049047\n",
      "OBP_162_v               0.035906\n",
      "Strt_TB_BB_perc_35_h    0.032368\n",
      "OBP_162_h               0.027957\n",
      "Strt_TB_BB_perc_35_v    0.027283\n",
      "SLG_162_h               0.026895\n",
      "Bpen_SO_perc_75_v       0.020712\n",
      "SLG_162_v               0.019623\n",
      "OBP_162_b4_h            0.019435\n",
      "Bpen_TB_BB_perc_75_h    0.018680\n",
      "Strt_H_BB_perc_35_h     0.018339\n",
      "OBP_162_b5_h            0.018081\n",
      "Strt_H_BB_perc_35_v     0.017367\n",
      "Bpen_H_BB_perc_35_h     0.016773\n",
      "Bpen_H_BB_perc_75_h     0.016200\n",
      "Bpen_H_BB_perc_35_v     0.015679\n",
      "Bpen_TB_BB_perc_75_v    0.015556\n",
      "SLG_162_b6_h            0.015383\n",
      "OBP_162_b7_h            0.015188\n",
      "SLG_162_b2_v            0.014072\n",
      "SLG_162_b4_v            0.013435\n",
      "OBP_162_b4_v            0.013377\n",
      "SLG_162_b5_v            0.013210\n",
      "OBP_162_b3_v            0.012953\n",
      "SLG_162_b2_h            0.012573\n",
      "OBP_162_b8_h            0.011772\n",
      "Bpen_TB_BB_perc_10_v    0.011672\n",
      "OBP_162_b8_v            0.010607\n",
      "SLG_162_b6_v            0.010308\n",
      "OBP_162_b7_v            0.010028\n",
      "OBP_162_b6_v            0.009620\n",
      "SLG_162_b7_v            0.009299\n",
      "Bpen_SO_perc_75_h       0.009286\n",
      "Bpen_H_BB_perc_75_v     0.009237\n",
      "OBP_162_b9_h            0.008370\n",
      "OBP_162_b5_v            0.008358\n",
      "Bpen_TB_BB_perc_35_v    0.006916\n",
      "SLG_162_b4_h            0.006490\n",
      "Bpen_WHIP_10_v          0.006108\n",
      "OBP_162_b2_h            0.005887\n",
      "OBP_162_b2_v            0.005639\n",
      "OBP_162_b3_h            0.004949\n",
      "SLG_162_b9_h            0.004697\n",
      "Bpen_SO_perc_10_v       0.004672\n",
      "SLG_162_b3_v            0.004669\n",
      "OBP_162_b9_v            0.004484\n",
      "OBP_162_b6_h            0.004407\n",
      "Bpen_SO_perc_35_v       0.003891\n",
      "SLG_162_b9_v            0.003468\n",
      "SLG_162_b1_h            0.003226\n",
      "OBP_162_b1_v            0.003140\n",
      "Bpen_SO_perc_35_h       0.003092\n",
      "OBP_162_b1_h            0.002987\n",
      "Bpen_WHIP_35_v          0.002564\n",
      "Bpen_WHIP_75_v          0.002399\n",
      "SLG_162_b8_v            0.002032\n",
      "Bpen_WHIP_35_h          0.001809\n",
      "SLG_162_b1_v            0.001664\n",
      "Bpen_SO_perc_10_h       0.001527\n",
      "Bpen_WHIP_75_h          0.001129\n",
      "SLG_162_b5_h            0.001085\n",
      "SLG_162_b7_h            0.000443\n",
      "Bpen_TB_BB_perc_35_h    0.000347\n",
      "Bpen_WHIP_10_h          0.000303\n",
      "Bpen_TB_BB_perc_10_h    0.000266\n",
      "Bpen_H_BB_perc_10_h     0.000210\n",
      "SLG_162_b8_h            0.000187\n",
      "SLG_162_b3_h            0.000175\n",
      "Bpen_H_BB_perc_10_v     0.000000\n",
      "dtype: float64\n"
     ]
    }
   ],
   "source": [
    "features2 = features0 + slg_indiv_cols + obp_indiv_cols\n",
    "d2 = try_features(features2, max_depth=2)"
   ]
  },
  {
   "cell_type": "code",
   "execution_count": 14,
   "id": "83b7ba40-3557-4c73-b545-80921be57266",
   "metadata": {
    "scrolled": true,
    "tags": []
   },
   "outputs": [
    {
     "name": "stdout",
     "output_type": "stream",
     "text": [
      "Training until validation scores don't improve for 50 rounds\n",
      "Early stopping, best iteration is:\n",
      "[633]\tvalid_0's binary_logloss: 0.673424\n",
      "\n",
      "Vegas probs: 0.6675629431340582 on test\n",
      "model probs: 0.670940211407773 on test\n",
      "\n",
      "Difference: 0.003377268273714873 on test\n",
      "\n",
      "Avg Shap Vals\n",
      "Intercept               0.159484\n",
      "Strt_SO_perc_10_v       0.074240\n",
      "Strt_SO_perc_10_h       0.072341\n",
      "Strt_WHIP_35_v          0.051425\n",
      "Strt_WHIP_35_h          0.048871\n",
      "lineup9_SLG_162_v       0.036237\n",
      "lineup9_OBP_162_h       0.034057\n",
      "Strt_TB_BB_perc_35_h    0.033599\n",
      "OBP_162_v               0.033178\n",
      "lineup9_SLG_162_h       0.026722\n",
      "lineup9_OBP_162_v       0.026585\n",
      "Strt_TB_BB_perc_35_v    0.026025\n",
      "OBP_162_h               0.023270\n",
      "SLG_162_h               0.021003\n",
      "Bpen_SO_perc_75_v       0.020230\n",
      "Bpen_TB_BB_perc_75_h    0.017259\n",
      "Bpen_H_BB_perc_35_v     0.017030\n",
      "Strt_H_BB_perc_35_v     0.016588\n",
      "Bpen_H_BB_perc_75_h     0.016193\n",
      "Strt_H_BB_perc_35_h     0.015589\n",
      "Bpen_TB_BB_perc_75_v    0.015056\n",
      "OBP_162_b4_h            0.014841\n",
      "Bpen_H_BB_perc_35_h     0.014364\n",
      "Bpen_TB_BB_perc_10_v    0.011778\n",
      "OBP_162_b5_h            0.011500\n",
      "SLG_162_v               0.011084\n",
      "OBP_162_b3_v            0.010701\n",
      "SLG_162_b4_v            0.009859\n",
      "OBP_162_b4_v            0.009429\n",
      "Bpen_H_BB_perc_75_v     0.007652\n",
      "OBP_162_b7_h            0.007552\n",
      "SLG_162_b5_v            0.006895\n",
      "Bpen_SO_perc_75_h       0.006554\n",
      "SLG_162_b2_h            0.006525\n",
      "SLG_162_b2_v            0.006431\n",
      "SLG_162_b6_v            0.005963\n",
      "Bpen_WHIP_10_v          0.005758\n",
      "SLG_162_b6_h            0.005609\n",
      "Bpen_TB_BB_perc_35_v    0.005412\n",
      "OBP_162_b7_v            0.004804\n",
      "OBP_162_b5_v            0.004243\n",
      "Bpen_SO_perc_10_v       0.003985\n",
      "Bpen_SO_perc_35_v       0.003504\n",
      "SLG_162_b4_h            0.003423\n",
      "Bpen_SO_perc_35_h       0.003237\n",
      "OBP_162_b6_h            0.002952\n",
      "SLG_162_b7_v            0.002297\n",
      "SLG_162_b9_h            0.002089\n",
      "OBP_162_b2_v            0.002054\n",
      "Bpen_WHIP_75_v          0.001933\n",
      "OBP_162_b6_v            0.001777\n",
      "SLG_162_b3_v            0.001726\n",
      "Bpen_SO_perc_10_h       0.001718\n",
      "Bpen_WHIP_35_h          0.001577\n",
      "Bpen_H_BB_perc_10_h     0.001465\n",
      "OBP_162_b8_h            0.001289\n",
      "OBP_162_b1_h            0.001144\n",
      "Bpen_WHIP_75_h          0.001128\n",
      "OBP_162_b9_h            0.001071\n",
      "OBP_162_b8_v            0.001020\n",
      "OBP_162_b2_h            0.000919\n",
      "OBP_162_b3_h            0.000847\n",
      "Bpen_WHIP_35_v          0.000830\n",
      "OBP_162_b9_v            0.000410\n",
      "Bpen_TB_BB_perc_10_h    0.000363\n",
      "Bpen_WHIP_10_h          0.000177\n",
      "SLG_162_b5_h            0.000114\n",
      "SLG_162_b1_h            0.000047\n",
      "SLG_162_b8_v            0.000025\n",
      "Bpen_TB_BB_perc_35_h    0.000000\n",
      "SLG_162_b9_v            0.000000\n",
      "SLG_162_b3_h            0.000000\n",
      "SLG_162_b1_v            0.000000\n",
      "Bpen_H_BB_perc_10_v     0.000000\n",
      "SLG_162_b7_h            0.000000\n",
      "SLG_162_b8_h            0.000000\n",
      "OBP_162_b1_v            0.000000\n",
      "dtype: float64\n"
     ]
    }
   ],
   "source": [
    "features3 = features0 + slg_indiv_cols + obp_indiv_cols + f_lineup_a\n",
    "d3 = try_features(features3)"
   ]
  },
  {
   "cell_type": "code",
   "execution_count": 15,
   "id": "6f583352-6c38-4630-b6c5-6d3e5d6c6f07",
   "metadata": {
    "scrolled": true,
    "tags": []
   },
   "outputs": [
    {
     "name": "stdout",
     "output_type": "stream",
     "text": [
      "Training until validation scores don't improve for 50 rounds\n",
      "Early stopping, best iteration is:\n",
      "[647]\tvalid_0's binary_logloss: 0.672506\n",
      "\n",
      "Vegas probs: 0.6675629431340582 on test\n",
      "model probs: 0.6709312132755392 on test\n",
      "\n",
      "Difference: 0.003368270141481 on test\n",
      "\n",
      "Avg Shap Vals\n",
      "Intercept                   0.159564\n",
      "Strt_SO_perc_10_v           0.078997\n",
      "Strt_SO_perc_10_h           0.076811\n",
      "Strt_WHIP_35_h              0.050574\n",
      "Strt_WHIP_35_v              0.049774\n",
      "OBP_162_v                   0.044550\n",
      "Strt_TB_BB_perc_35_h        0.038365\n",
      "OBP_162_h                   0.034249\n",
      "lineup9_SLG_162_v           0.033421\n",
      "Strt_TB_BB_perc_35_v        0.028547\n",
      "lineup9_OBS_162_h           0.025439\n",
      "lineup9_OBP_162_v           0.024992\n",
      "SLG_162_h                   0.024804\n",
      "Bpen_SO_perc_75_v           0.024582\n",
      "lineup9_OBP_162_h           0.023772\n",
      "lineup9_SLGmod_162_h        0.019433\n",
      "Bpen_TB_BB_perc_75_h        0.018004\n",
      "Strt_H_BB_perc_35_v         0.017473\n",
      "Bpen_H_BB_perc_35_v         0.017456\n",
      "SLG_162_v                   0.016716\n",
      "lineup9_OBS_162_v           0.016230\n",
      "Bpen_H_BB_perc_75_h         0.016229\n",
      "Bpen_H_BB_perc_35_h         0.015163\n",
      "Bpen_TB_BB_perc_75_v        0.015013\n",
      "lineup9_SLG_162_h           0.014902\n",
      "Strt_H_BB_perc_35_h         0.013372\n",
      "Bpen_TB_BB_perc_10_v        0.011089\n",
      "Bpen_H_BB_perc_75_v         0.008300\n",
      "Bpen_SO_perc_10_v           0.007263\n",
      "Bpen_SO_perc_35_v           0.006617\n",
      "Bpen_WHIP_10_v              0.006391\n",
      "Bpen_SO_perc_75_h           0.006134\n",
      "Bpen_TB_BB_perc_35_v        0.005185\n",
      "lineup9_SObat_perc_162_h    0.004436\n",
      "lineup9_SObat_perc_162_v    0.003787\n",
      "lineup9_SLGmod_162_v        0.003025\n",
      "Bpen_WHIP_75_v              0.002877\n",
      "Bpen_SO_perc_35_h           0.002498\n",
      "Bpen_H_BB_perc_10_h         0.001799\n",
      "Bpen_WHIP_35_h              0.001570\n",
      "Bpen_TB_BB_perc_35_h        0.001508\n",
      "Bpen_SO_perc_10_h           0.000836\n",
      "Bpen_WHIP_75_h              0.000789\n",
      "Bpen_WHIP_10_h              0.000721\n",
      "Bpen_TB_BB_perc_10_h        0.000663\n",
      "Bpen_WHIP_35_v              0.000455\n",
      "Bpen_H_BB_perc_10_v         0.000104\n",
      "dtype: float64\n"
     ]
    }
   ],
   "source": [
    "f_lineup_b =  [\n",
    "            'lineup9_OBS_162_h','lineup9_OBS_162_v',\n",
    "            'lineup9_SLGmod_162_h','lineup9_SLGmod_162_v',\n",
    "            'lineup9_SObat_perc_162_h','lineup9_SObat_perc_162_v',\n",
    "]\n",
    "features4 = features0  +f_lineup_a + f_lineup_b\n",
    "d4 = try_features(features4)"
   ]
  },
  {
   "cell_type": "code",
   "execution_count": 16,
   "id": "3eb8829e-90dc-4df2-aff4-909fcda1dbbb",
   "metadata": {
    "scrolled": true,
    "tags": []
   },
   "outputs": [
    {
     "name": "stdout",
     "output_type": "stream",
     "text": [
      "Training until validation scores don't improve for 50 rounds\n",
      "Early stopping, best iteration is:\n",
      "[574]\tvalid_0's binary_logloss: 0.67287\n",
      "\n",
      "Vegas probs: 0.6675629431340582 on test\n",
      "model probs: 0.6708857764203444 on test\n",
      "\n",
      "Difference: 0.003322833286286242 on test\n",
      "\n",
      "Avg Shap Vals\n",
      "Intercept               0.159409\n",
      "Strt_SO_perc_10_v       0.077107\n",
      "Strt_SO_perc_10_h       0.073917\n",
      "Strt_WHIP_35_v          0.049875\n",
      "Strt_WHIP_35_h          0.049834\n",
      "lineup9_SLG_162_w_v     0.044837\n",
      "OBP_162_v               0.042640\n",
      "lineup9_OBP_162_w_h     0.040027\n",
      "Strt_TB_BB_perc_35_h    0.035821\n",
      "OBP_162_h               0.030787\n",
      "SLG_162_h               0.028096\n",
      "Strt_TB_BB_perc_35_v    0.027806\n",
      "lineup9_OBP_162_w_v     0.027418\n",
      "lineup9_SLG_162_w_h     0.024239\n",
      "Bpen_SO_perc_75_v       0.021664\n",
      "Strt_H_BB_perc_35_v     0.017872\n",
      "Bpen_H_BB_perc_75_h     0.017169\n",
      "Bpen_TB_BB_perc_75_h    0.015878\n",
      "Bpen_H_BB_perc_35_v     0.015803\n",
      "Bpen_TB_BB_perc_75_v    0.015475\n",
      "Strt_H_BB_perc_35_h     0.015390\n",
      "SLG_162_v               0.014376\n",
      "Bpen_H_BB_perc_35_h     0.014316\n",
      "Bpen_TB_BB_perc_10_v    0.010256\n",
      "Bpen_H_BB_perc_75_v     0.007504\n",
      "Bpen_TB_BB_perc_35_v    0.006828\n",
      "Bpen_SO_perc_75_h       0.006642\n",
      "Bpen_WHIP_10_v          0.006602\n",
      "Bpen_SO_perc_35_v       0.005639\n",
      "Bpen_SO_perc_10_v       0.004982\n",
      "Bpen_H_BB_perc_10_h     0.002815\n",
      "Bpen_WHIP_75_v          0.002426\n",
      "Bpen_SO_perc_35_h       0.002219\n",
      "Bpen_WHIP_35_h          0.001198\n",
      "Bpen_TB_BB_perc_35_h    0.000710\n",
      "Bpen_WHIP_75_h          0.000538\n",
      "Bpen_WHIP_10_h          0.000477\n",
      "Bpen_SO_perc_10_h       0.000391\n",
      "Bpen_TB_BB_perc_10_h    0.000339\n",
      "Bpen_WHIP_35_v          0.000217\n",
      "Bpen_H_BB_perc_10_v     0.000035\n",
      "dtype: float64\n"
     ]
    }
   ],
   "source": [
    "f_lineup_a_w =  [\n",
    "            'lineup9_OBP_162_w_h','lineup9_OBP_162_w_v',\n",
    "            'lineup9_SLG_162_w_h','lineup9_SLG_162_w_v',\n",
    "]\n",
    "features5 = features0+f_lineup_a_w\n",
    "d5 = try_features(features5)"
   ]
  },
  {
   "cell_type": "code",
   "execution_count": 17,
   "id": "ec43f69b-0f21-41d7-8a99-7488e3af9cb4",
   "metadata": {
    "scrolled": true,
    "tags": []
   },
   "outputs": [
    {
     "name": "stdout",
     "output_type": "stream",
     "text": [
      "Training until validation scores don't improve for 50 rounds\n",
      "Early stopping, best iteration is:\n",
      "[696]\tvalid_0's binary_logloss: 0.672294\n",
      "\n",
      "Vegas probs: 0.6675629431340582 on test\n",
      "model probs: 0.6708631879135716 on test\n",
      "\n",
      "Difference: 0.003300244779513406 on test\n",
      "\n",
      "Avg Shap Vals\n",
      "Intercept               0.159667\n",
      "Strt_SO_perc_10_h       0.079054\n",
      "Strt_SO_perc_10_v       0.078661\n",
      "Strt_WHIP_35_h          0.052643\n",
      "Strt_WHIP_35_v          0.051065\n",
      "OBP_162_v               0.043540\n",
      "lineup8_SLG_162_w_v     0.041464\n",
      "Strt_TB_BB_perc_35_h    0.037711\n",
      "OBP_162_h               0.036083\n",
      "lineup8_SLG_162_w_h     0.033618\n",
      "lineup8_OBP_162_w_v     0.030874\n",
      "Strt_TB_BB_perc_35_v    0.030491\n",
      "SLG_162_h               0.027928\n",
      "Bpen_SO_perc_75_v       0.025400\n",
      "lineup8_OBP_162_w_h     0.024995\n",
      "Bpen_TB_BB_perc_75_h    0.019012\n",
      "Strt_H_BB_perc_35_v     0.018516\n",
      "SLG_162_v               0.017659\n",
      "Bpen_H_BB_perc_75_h     0.016948\n",
      "Bpen_H_BB_perc_35_v     0.016461\n",
      "Bpen_TB_BB_perc_75_v    0.016334\n",
      "Bpen_H_BB_perc_35_h     0.016102\n",
      "Strt_H_BB_perc_35_h     0.015801\n",
      "Bpen_TB_BB_perc_10_v    0.012550\n",
      "Bpen_SO_perc_75_h       0.009022\n",
      "Bpen_SO_perc_35_v       0.008101\n",
      "Bpen_SO_perc_10_v       0.007902\n",
      "Bpen_H_BB_perc_75_v     0.007417\n",
      "Bpen_TB_BB_perc_35_v    0.006657\n",
      "Bpen_WHIP_10_v          0.006260\n",
      "Bpen_SO_perc_35_h       0.003995\n",
      "Bpen_WHIP_75_v          0.003592\n",
      "Bpen_WHIP_35_h          0.002632\n",
      "Bpen_TB_BB_perc_10_h    0.001016\n",
      "Bpen_WHIP_75_h          0.001001\n",
      "Bpen_TB_BB_perc_35_h    0.000991\n",
      "Bpen_H_BB_perc_10_h     0.000784\n",
      "Bpen_WHIP_10_h          0.000630\n",
      "Bpen_WHIP_35_v          0.000595\n",
      "Bpen_SO_perc_10_h       0.000533\n",
      "Bpen_H_BB_perc_10_v     0.000259\n",
      "dtype: float64\n"
     ]
    }
   ],
   "source": [
    "f_lineup_a_8 =  [\n",
    "            'lineup8_OBP_162_w_h','lineup8_OBP_162_w_v',\n",
    "            'lineup8_SLG_162_w_h','lineup8_SLG_162_w_v',\n",
    "]\n",
    "features6 = features0+f_lineup_a_8\n",
    "d6 = try_features(features6)"
   ]
  },
  {
   "cell_type": "code",
   "execution_count": 18,
   "id": "8d8d3c22-562d-4e82-9e4d-4274eb5bd927",
   "metadata": {},
   "outputs": [],
   "source": [
    "f_lineup_c = [\n",
    "            'lineup9_OBP_350_h','lineup9_OBP_350_v',\n",
    "            'lineup9_SLG_350_h','lineup9_SLG_350_v',\n",
    "]\n",
    "\n",
    "f_lineup_d = [\n",
    "            'lineup9_OBP_75_h','lineup9_OBP_75_v',\n",
    "            'lineup9_SLG_75_h','lineup9_SLG_75_v',\n",
    "]\n"
   ]
  },
  {
   "cell_type": "code",
   "execution_count": 19,
   "id": "0eaacaec-a793-4e8b-a694-b32fccb2de4e",
   "metadata": {
    "scrolled": true,
    "tags": []
   },
   "outputs": [
    {
     "name": "stdout",
     "output_type": "stream",
     "text": [
      "Training until validation scores don't improve for 50 rounds\n",
      "Early stopping, best iteration is:\n",
      "[625]\tvalid_0's binary_logloss: 0.671981\n",
      "\n",
      "Vegas probs: 0.6675629431340582 on test\n",
      "model probs: 0.6709272074111267 on test\n",
      "\n",
      "Difference: 0.003364264277068485 on test\n",
      "\n",
      "Avg Shap Vals\n",
      "Intercept               0.159548\n",
      "Strt_SO_perc_10_v       0.078028\n",
      "Strt_SO_perc_10_h       0.075951\n",
      "Strt_WHIP_35_h          0.049938\n",
      "Strt_WHIP_35_v          0.047531\n",
      "OBP_162_v               0.041618\n",
      "Strt_TB_BB_perc_35_h    0.036323\n",
      "lineup9_SLG_350_v       0.030229\n",
      "OBP_162_h               0.028480\n",
      "Strt_TB_BB_perc_35_v    0.027983\n",
      "SLG_162_h               0.025708\n",
      "Bpen_SO_perc_75_v       0.023782\n",
      "lineup9_OBP_162_h       0.018150\n",
      "Strt_H_BB_perc_35_v     0.018111\n",
      "Bpen_H_BB_perc_35_v     0.016997\n",
      "Bpen_TB_BB_perc_75_h    0.016979\n",
      "Bpen_H_BB_perc_75_h     0.016656\n",
      "lineup9_OBP_162_v       0.016218\n",
      "Bpen_H_BB_perc_35_h     0.015642\n",
      "lineup9_SLG_162_h       0.015637\n",
      "lineup9_SLG_75_h        0.015317\n",
      "Bpen_TB_BB_perc_75_v    0.015083\n",
      "lineup9_SLG_350_h       0.014164\n",
      "SLG_162_v               0.013934\n",
      "Strt_H_BB_perc_35_h     0.013488\n",
      "lineup9_SLG_162_v       0.012431\n",
      "lineup9_SLG_75_v        0.012088\n",
      "Bpen_TB_BB_perc_10_v    0.011415\n",
      "lineup9_OBP_75_h        0.010343\n",
      "lineup9_OBP_350_h       0.009692\n",
      "lineup9_OBP_350_v       0.008411\n",
      "lineup9_OBP_75_v        0.008084\n",
      "Bpen_H_BB_perc_75_v     0.007735\n",
      "Bpen_WHIP_10_v          0.006301\n",
      "Bpen_SO_perc_75_h       0.005926\n",
      "Bpen_SO_perc_10_v       0.005689\n",
      "Bpen_TB_BB_perc_35_v    0.005320\n",
      "Bpen_SO_perc_35_v       0.004048\n",
      "Bpen_WHIP_75_v          0.002395\n",
      "Bpen_SO_perc_35_h       0.002249\n",
      "Bpen_WHIP_35_h          0.001575\n",
      "Bpen_TB_BB_perc_35_h    0.001177\n",
      "Bpen_H_BB_perc_10_h     0.000881\n",
      "Bpen_WHIP_35_v          0.000649\n",
      "Bpen_WHIP_75_h          0.000591\n",
      "Bpen_WHIP_10_h          0.000468\n",
      "Bpen_SO_perc_10_h       0.000180\n",
      "Bpen_TB_BB_perc_10_h    0.000168\n",
      "Bpen_H_BB_perc_10_v     0.000070\n",
      "dtype: float64\n"
     ]
    }
   ],
   "source": [
    "features7 = features0 + f_lineup_a + f_lineup_c+ f_lineup_d\n",
    "d7 = try_features(features7, max_depth=2)"
   ]
  },
  {
   "cell_type": "code",
   "execution_count": 20,
   "id": "3b10702f-c365-4947-8fb0-bf27f5c0ba22",
   "metadata": {},
   "outputs": [],
   "source": [
    "f_simple = ['OBP_162_h','OBP_162_v',\n",
    "            'SLG_162_h','SLG_162_v']"
   ]
  },
  {
   "cell_type": "code",
   "execution_count": 21,
   "id": "9994cedf-d45e-4f00-a8de-6a0a8e38c720",
   "metadata": {},
   "outputs": [
    {
     "name": "stdout",
     "output_type": "stream",
     "text": [
      "Training until validation scores don't improve for 50 rounds\n",
      "Early stopping, best iteration is:\n",
      "[382]\tvalid_0's binary_logloss: 0.680528\n",
      "\n",
      "Vegas probs: 0.6675629431340582 on test\n",
      "model probs: 0.682613134845463 on test\n",
      "\n",
      "Difference: 0.01505019171140487 on test\n",
      "\n",
      "Avg Shap Vals\n",
      "Intercept    0.158082\n",
      "OBP_162_v    0.090951\n",
      "OBP_162_h    0.084486\n",
      "SLG_162_h    0.049732\n",
      "SLG_162_v    0.041735\n",
      "dtype: float64\n"
     ]
    }
   ],
   "source": [
    "features8 = f_simple\n",
    "d8 = try_features(features8, max_depth=2)"
   ]
  },
  {
   "cell_type": "code",
   "execution_count": null,
   "id": "f47d89e6-9047-4d71-aae1-975d979dc349",
   "metadata": {},
   "outputs": [],
   "source": []
  },
  {
   "cell_type": "markdown",
   "id": "0ec41104-be83-40c3-aa2a-d84fb35f32af",
   "metadata": {},
   "source": [
    "## Model Analysis\n",
    "- ### Is there any other evidence that this last enhancement \"improved\" the model?\n",
    "- ### LV model is still better overall, but are we \"adding any value\"?  Is our model \"catching\" anything they are not?\n"
   ]
  },
  {
   "cell_type": "code",
   "execution_count": 22,
   "id": "333a86d6-c243-4308-a72a-933bd04ccc6a",
   "metadata": {},
   "outputs": [],
   "source": [
    "discreps_lv0 = (d0['preds_test']-df_test.implied_prob_h_mid).to_numpy() # Without lineup features\n",
    "discreps_lv1 = (d1['preds_test']-df_test.implied_prob_h_mid).to_numpy() # With lineup features"
   ]
  },
  {
   "cell_type": "code",
   "execution_count": 23,
   "id": "4660bf81-867b-47b5-b07d-d769bef5d324",
   "metadata": {},
   "outputs": [
    {
     "data": {
      "image/png": "[encoded data removed]",
      "text/plain": [
       "<Figure size 432x288 with 1 Axes>"
      ]
     },
     "metadata": {
      "needs_background": "light"
     },
     "output_type": "display_data"
    }
   ],
   "source": [
    "plt.hist(discreps_lv1, bins=np.linspace(-.2,.2,41), alpha=.5, color='blue');\n",
    "plt.hist(discreps_lv0, bins=np.linspace(-.2,.2,41), alpha=.5, color='yellow');"
   ]
  },
  {
   "cell_type": "markdown",
   "id": "f0546af5-6203-4dca-ac2d-60b33d819415",
   "metadata": {},
   "source": [
    "Histogram above shows that we are closer to the Las Vegas model after adding in the lineup features"
   ]
  },
  {
   "cell_type": "code",
   "execution_count": 24,
   "id": "0648402d-7676-43da-bc8a-1f8cb800a48b",
   "metadata": {},
   "outputs": [
    {
     "data": {
      "text/plain": [
       "(0.039949780722521894, 0.04314676696536704)"
      ]
     },
     "execution_count": 24,
     "metadata": {},
     "output_type": "execute_result"
    }
   ],
   "source": [
    "np.mean(np.abs(discreps_lv1)), np.mean(np.abs(discreps_lv0))"
   ]
  },
  {
   "cell_type": "markdown",
   "id": "61b14445-4a4f-49b5-8c44-0d61ca3430b8",
   "metadata": {},
   "source": [
    "Let's look at whether we get better predictions by making a weighted average of our model and the Las Vegas probs"
   ]
  },
  {
   "cell_type": "code",
   "execution_count": 25,
   "id": "24c0ff42-63c1-4bc3-a079-cf74530782ed",
   "metadata": {},
   "outputs": [],
   "source": [
    "weak_model_preds = d8['preds_test']\n",
    "strong_model_preds = d1['preds_test']"
   ]
  },
  {
   "cell_type": "code",
   "execution_count": 26,
   "id": "2afae4b0-df8e-41b3-8e22-cc1e53f06f38",
   "metadata": {},
   "outputs": [
    {
     "data": {
      "text/plain": [
       "[<matplotlib.lines.Line2D at 0x133a247c0>]"
      ]
     },
     "execution_count": 26,
     "metadata": {},
     "output_type": "execute_result"
    },
    {
     "data": {
      "image/png": "[encoded data removed]",
      "text/plain": [
       "<Figure size 432x288 with 1 Axes>"
      ]
     },
     "metadata": {
      "needs_background": "light"
     },
     "output_type": "display_data"
    }
   ],
   "source": [
    "## Mixing in our first (very simple) model\n",
    "ll_mix_vec_weak = [log_loss(y_test, (k*weak_model_preds+(1-k)*df_test.implied_prob_h_mid)) for k in np.linspace(0,1,101)]\n",
    "plt.plot(ll_mix_vec_weak)"
   ]
  },
  {
   "cell_type": "code",
   "execution_count": 27,
   "id": "33a1ea02-a408-49cb-b12f-1d71c9c8fef0",
   "metadata": {},
   "outputs": [
    {
     "data": {
      "text/plain": [
       "(1.1346372347231792e-05, 3)"
      ]
     },
     "execution_count": 27,
     "metadata": {},
     "output_type": "execute_result"
    }
   ],
   "source": [
    "ll_mix_vec_weak[0] - np.min(ll_mix_vec_weak), np.argmin(ll_mix_vec_weak)"
   ]
  },
  {
   "cell_type": "code",
   "execution_count": 28,
   "id": "fffa262b-35cf-40ac-906d-5f63d1da552d",
   "metadata": {},
   "outputs": [
    {
     "data": {
      "text/plain": [
       "[<matplotlib.lines.Line2D at 0x136321eb0>]"
      ]
     },
     "execution_count": 28,
     "metadata": {},
     "output_type": "execute_result"
    },
    {
     "data": {
      "image/png": "[encoded data removed]",
      "text/plain": [
       "<Figure size 432x288 with 1 Axes>"
      ]
     },
     "metadata": {
      "needs_background": "light"
     },
     "output_type": "display_data"
    }
   ],
   "source": [
    "## Mixing in our latest model\n",
    "ll_mix_vec_strong = [log_loss(y_test, (k*strong_model_preds+(1-k)*df_test.implied_prob_h_mid)) for k in np.linspace(0,1,101)]\n",
    "plt.plot(ll_mix_vec_strong)"
   ]
  },
  {
   "cell_type": "code",
   "execution_count": 29,
   "id": "e6d90c9a-9374-467a-b6cd-77c2faf14130",
   "metadata": {},
   "outputs": [
    {
     "data": {
      "text/plain": [
       "(0.0002446390976322821, 21)"
      ]
     },
     "execution_count": 29,
     "metadata": {},
     "output_type": "execute_result"
    }
   ],
   "source": [
    "ll_mix_vec_strong[0] - np.min(ll_mix_vec_strong), np.argmin(ll_mix_vec_strong)"
   ]
  },
  {
   "cell_type": "code",
   "execution_count": 30,
   "id": "5991873b-b4de-4412-ad9e-13db8cd49fe8",
   "metadata": {},
   "outputs": [],
   "source": [
    "# Simulate different model variations on a single test set\n",
    "# Gives a sense of how much different models (each with the same quality)\n",
    "# will vary\n",
    "def ll_model_discrep_shuffle(probvec_true, discreps, num_trials, answers):\n",
    "    # sim_outcome = np.random.binomial(n=1, p=probvec_true)\n",
    "    llvec_mod = np.zeros(num_trials)\n",
    "    discr1 = discreps.copy()\n",
    "    for i in range(num_trials):\n",
    "        np.random.shuffle(discr1)\n",
    "        pv_mod = pv_true  + discr1\n",
    "        llvec_mod[i] = log_loss(answers, pv_mod)\n",
    "    return(llvec_mod)"
   ]
  },
  {
   "cell_type": "code",
   "execution_count": 31,
   "id": "e9b56a42-1ca4-4b04-bfd0-c39fa46f14ed",
   "metadata": {},
   "outputs": [],
   "source": [
    "pv_true = df_test.implied_prob_h_mid\n",
    "losses = ll_model_discrep_shuffle(pv_true, discreps_lv1, 10000, y_test)"
   ]
  },
  {
   "cell_type": "code",
   "execution_count": 32,
   "id": "0a7a57cc-771d-43ae-a975-920a59e2fa24",
   "metadata": {},
   "outputs": [
    {
     "data": {
      "text/plain": [
       "<matplotlib.collections.LineCollection at 0x137a67cd0>"
      ]
     },
     "execution_count": 32,
     "metadata": {},
     "output_type": "execute_result"
    },
    {
     "data": {
      "image/png": "[encoded data removed]",
      "text/plain": [
       "<Figure size 864x288 with 1 Axes>"
      ]
     },
     "metadata": {
      "needs_background": "light"
     },
     "output_type": "display_data"
    }
   ],
   "source": [
    "plt.figure(figsize=(12,4))\n",
    "plt.hist(losses, bins=100);\n",
    "plt.xlim([.665,.685]);\n",
    "plt.vlines(x=log_loss(y_test, strong_model_preds), ymin=0, ymax=200, color='k', linestyle='--')"
   ]
  },
  {
   "cell_type": "code",
   "execution_count": null,
   "id": "024e9025-5997-4dbc-a84f-e7879701626e",
   "metadata": {},
   "outputs": [],
   "source": []
  },
  {
   "cell_type": "code",
   "execution_count": null,
   "id": "e87f2d90-25b5-4505-b000-af480bd27574",
   "metadata": {},
   "outputs": [],
   "source": []
  },
  {
   "cell_type": "code",
   "execution_count": null,
   "id": "4a98d503-7161-4878-b8b2-d451410f42da",
   "metadata": {},
   "outputs": [],
   "source": []
  },
  {
   "cell_type": "markdown",
   "id": "f7b0b1c3-330b-4395-b609-7b96f97fe0ee",
   "metadata": {},
   "source": [
    "# Conclusions\n",
    "- ## We went from ~40bps to ~30bps by adding lineup variables OBS, SLG (for home and away)\n",
    "- ## Changing variants, adding more variables did not seem to improve at all\n",
    "- ## Vegas model is still better overall, but evidence that our model captures effects that they don't\n"
   ]
  },
  {
   "cell_type": "code",
   "execution_count": null,
   "id": "127ff324-d1b9-4943-896c-ee7e0a933e31",
   "metadata": {},
   "outputs": [],
   "source": []
  },
  {
   "cell_type": "code",
   "execution_count": null,
   "id": "d7cfc7ea-81fc-4bed-bfdc-23e91a404077",
   "metadata": {},
   "outputs": [],
   "source": []
  },
  {
   "cell_type": "code",
   "execution_count": null,
   "id": "383f1792-c995-489b-abc6-9e8f7dd6663f",
   "metadata": {},
   "outputs": [],
   "source": []
  },
  {
   "cell_type": "code",
   "execution_count": null,
   "id": "71f897d3-17d0-4d2f-994f-d47a825d9ab8",
   "metadata": {},
   "outputs": [],
   "source": []
  },
  {
   "cell_type": "code",
   "execution_count": null,
   "id": "46e4708c-3547-486d-90ac-c66f45770b57",
   "metadata": {},
   "outputs": [],
   "source": []
  },
  {
   "cell_type": "code",
   "execution_count": null,
   "id": "5c12a84d-7afe-4a0b-827e-9fe0c7f8da21",
   "metadata": {},
   "outputs": [],
   "source": []
  },
  {
   "cell_type": "code",
   "execution_count": null,
   "id": "fd76c671-0a2d-4754-b360-d4e778587ef6",
   "metadata": {},
   "outputs": [],
   "source": []
  },
  {
   "cell_type": "code",
   "execution_count": null,
   "id": "fd5b764e-faa0-4687-87a2-497701afc1e0",
   "metadata": {},
   "outputs": [],
   "source": []
  },
  {
   "cell_type": "code",
   "execution_count": null,
   "id": "4a8c0e68-069c-4c73-82e1-f9fb53a23de7",
   "metadata": {},
   "outputs": [],
   "source": []
  },
  {
   "cell_type": "code",
   "execution_count": null,
   "id": "651803f1-9eb4-418e-8efe-7074f2a2ac50",
   "metadata": {},
   "outputs": [],
   "source": []
  },
  {
   "cell_type": "markdown",
   "id": "0fbd3683-1add-4a4a-90fd-23dbfaf6a97c",
   "metadata": {},
   "source": [
    "# Next Steps\n",
    "- ## Want to model runs scored\n",
    "- ## Will certainly be useful for predicting the over / under\n",
    "- ## May also prove useful for predicting the winner of the game\n",
    "- ## Will want to use probabilistic regression to get a distribution on the runs scored rather than a point estimate"
   ]
  },
  {
   "cell_type": "code",
   "execution_count": null,
   "id": "f31efc6a-d353-4718-bd8c-e7802ae71860",
   "metadata": {},
   "outputs": [],
   "source": []
  }
 ],
 "metadata": {
  "kernelspec": {
   "display_name": "Python 3 (ipykernel)",
   "language": "python",
   "name": "python3"
  },
  "language_info": {
   "codemirror_mode": {
    "name": "ipython",
    "version": 3
   },
   "file_extension": ".py",
   "mimetype": "text/x-python",
   "name": "python",
   "nbconvert_exporter": "python",
   "pygments_lexer": "ipython3",
   "version": "3.9.13"
  }
 },
 "nbformat": 4,
 "nbformat_minor": 5
}
