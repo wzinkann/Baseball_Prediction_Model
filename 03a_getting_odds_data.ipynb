{
 "cells": [
  {
   "cell_type": "markdown",
   "metadata": {},
   "source": [
    "# Betting on Baseball - How it Works\n",
    "Baseball bets are made with respect to a \"money line\"\n",
    "The line represents the oddsmakers probability that a given team will win a particular game.\n",
    "The less likely it is for a team to win, the more money you make on your bet if it wins.\n"
   ]
  },
  {
   "cell_type": "markdown",
   "metadata": {},
   "source": [
    "- Suppose a team has probability 1/3 of winning, and you bet $100. A fair bet would pay you $200 if you win.\n",
    "- In that case, your \"expected value\" would be zero: \n",
    "    - EV = (1/3) * 200 + (2/3) * (-100) = 0\n",
    "- In the U.S. odds are represented by a Line value, which is a positive number > 100 or negative integer < -100.\n",
    "- A positive number means the team is an underdog, and the \"implied probability\" is \n",
    "    - 100 / (100 + Line)\n",
    "- Example: If line for the Angels is +150 against the Dodgers, the \"implied probability\" is \n",
    "    - 100 / (100 +150) = .4 = 40\\\\\n",
    "- A negative number means the team is the favorite, and the implied probability is \n",
    "    - Line / (100 - Line)\n",
    "- Example: If line for the Cubs is -300 against the Dodgers, the \"implied probability\" is \n",
    "    - (-300) / (100 - (-300)) = 300/400 = .75 = 75"
   ]
  },
  {
   "cell_type": "markdown",
   "metadata": {},
   "source": [
    "- Since bookies are trying to make money, they will \"slant\" the probabilities (on both sides) in their favor.\n",
    "- For example, if a game is truly 50-50, you will typically win only $90 or $95 dollars on a $100 bet\n",
    "- This means the implied probabilities on both sides of a game add up to more than 1 (more than 100%).\n",
    "- This \"edge\" is often referred to as \"vigorish\" or \"vig\"."
   ]
  },
  {
   "cell_type": "markdown",
   "metadata": {},
   "source": [
    "# Baseball Prediction: 3a - Getting Odds Data\n",
    "In this notebook we will get historical odds data from oddsshark.com. We will use the pandas read_html function to grab a table into a dataframe, and show how to programmatically sweep through all the necessary urls to get the data we need.\n",
    "\n",
    "We will save this data as a collection of csv files. In the next notebook, we will use these csv files to add the odds information to our primary dataframe."
   ]
  },
  {
   "cell_type": "code",
   "execution_count": 1,
   "metadata": {},
   "outputs": [],
   "source": [
    "import numpy as np\n",
    "import pandas as pd\n",
    "import matplotlib.pyplot as plt\n",
    "%matplotlib inline\n",
    "pd.set_option('display.max_columns',1000)\n",
    "pd.set_option('display.max_rows',1000)"
   ]
  },
  {
   "cell_type": "code",
   "execution_count": 9,
   "metadata": {},
   "outputs": [],
   "source": [
    "# Install if not downloaded\n",
    "# %pip install html5lib"
   ]
  },
  {
   "cell_type": "code",
   "execution_count": 10,
   "metadata": {},
   "outputs": [],
   "source": [
    "import lxml\n",
    "import html5lib\n",
    "from urllib.request import urlopen\n",
    "import time"
   ]
  },
  {
   "cell_type": "markdown",
   "metadata": {},
   "source": [
    "## Get Line, over_under, from oddsshark\n",
    "Go to https://www.oddsshark.com/mlb/game-logs"
   ]
  },
  {
   "cell_type": "code",
   "execution_count": 11,
   "metadata": {},
   "outputs": [],
   "source": [
    "df1 = pd.read_html('https://www.oddsshark.com/stats/gamelog/baseball/mlb/27024?season=2020')[0] # [0]"
   ]
  },
  {
   "cell_type": "code",
   "execution_count": 12,
   "metadata": {},
   "outputs": [
    {
     "data": {
      "text/html": [
       "<div>\n",
       "<style scoped>\n",
       "    .dataframe tbody tr th:only-of-type {\n",
       "        vertical-align: middle;\n",
       "    }\n",
       "\n",
       "    .dataframe tbody tr th {\n",
       "        vertical-align: top;\n",
       "    }\n",
       "\n",
       "    .dataframe thead th {\n",
       "        text-align: right;\n",
       "    }\n",
       "</style>\n",
       "<table border=\"1\" class=\"dataframe\">\n",
       "  <thead>\n",
       "    <tr style=\"text-align: right;\">\n",
       "      <th></th>\n",
       "      <th>Date</th>\n",
       "      <th>Opponent</th>\n",
       "      <th>Game</th>\n",
       "      <th>Result</th>\n",
       "      <th>Score</th>\n",
       "      <th>Line</th>\n",
       "      <th>OU</th>\n",
       "      <th>Total</th>\n",
       "    </tr>\n",
       "  </thead>\n",
       "  <tbody>\n",
       "    <tr>\n",
       "      <th>0</th>\n",
       "      <td>Jul 24, 2020</td>\n",
       "      <td>vs Kansas City</td>\n",
       "      <td>REG</td>\n",
       "      <td>W</td>\n",
       "      <td>2-0</td>\n",
       "      <td>-220</td>\n",
       "      <td>U</td>\n",
       "      <td>9.0</td>\n",
       "    </tr>\n",
       "    <tr>\n",
       "      <th>1</th>\n",
       "      <td>Jul 25, 2020</td>\n",
       "      <td>vs Kansas City</td>\n",
       "      <td>REG</td>\n",
       "      <td>L</td>\n",
       "      <td>3-2</td>\n",
       "      <td>-255</td>\n",
       "      <td>U</td>\n",
       "      <td>8.5</td>\n",
       "    </tr>\n",
       "    <tr>\n",
       "      <th>2</th>\n",
       "      <td>Jul 26, 2020</td>\n",
       "      <td>vs Kansas City</td>\n",
       "      <td>REG</td>\n",
       "      <td>W</td>\n",
       "      <td>9-2</td>\n",
       "      <td>-210</td>\n",
       "      <td>O</td>\n",
       "      <td>9.0</td>\n",
       "    </tr>\n",
       "    <tr>\n",
       "      <th>3</th>\n",
       "      <td>Jul 28, 2020</td>\n",
       "      <td>vs Chi White Sox</td>\n",
       "      <td>REG</td>\n",
       "      <td>W</td>\n",
       "      <td>4-3</td>\n",
       "      <td>-126</td>\n",
       "      <td>U</td>\n",
       "      <td>10.5</td>\n",
       "    </tr>\n",
       "    <tr>\n",
       "      <th>4</th>\n",
       "      <td>Jul 28, 2020</td>\n",
       "      <td>vs Chi White Sox</td>\n",
       "      <td>REG</td>\n",
       "      <td>W</td>\n",
       "      <td>5-3</td>\n",
       "      <td>-121</td>\n",
       "      <td>U</td>\n",
       "      <td>10.5</td>\n",
       "    </tr>\n",
       "    <tr>\n",
       "      <th>5</th>\n",
       "      <td>Jul 29, 2020</td>\n",
       "      <td>vs Chi White Sox</td>\n",
       "      <td>REG</td>\n",
       "      <td>L</td>\n",
       "      <td>4-0</td>\n",
       "      <td>106</td>\n",
       "      <td>U</td>\n",
       "      <td>9.0</td>\n",
       "    </tr>\n",
       "    <tr>\n",
       "      <th>6</th>\n",
       "      <td>Jul 30, 2020</td>\n",
       "      <td>@ Minnesota</td>\n",
       "      <td>REG</td>\n",
       "      <td>W</td>\n",
       "      <td>2-0</td>\n",
       "      <td>114</td>\n",
       "      <td>U</td>\n",
       "      <td>8.5</td>\n",
       "    </tr>\n",
       "    <tr>\n",
       "      <th>7</th>\n",
       "      <td>Jul 31, 2020</td>\n",
       "      <td>@ Minnesota</td>\n",
       "      <td>REG</td>\n",
       "      <td>L</td>\n",
       "      <td>4-1</td>\n",
       "      <td>-115</td>\n",
       "      <td>U</td>\n",
       "      <td>9.0</td>\n",
       "    </tr>\n",
       "    <tr>\n",
       "      <th>8</th>\n",
       "      <td>Aug 1, 2020</td>\n",
       "      <td>@ Minnesota</td>\n",
       "      <td>REG</td>\n",
       "      <td>L</td>\n",
       "      <td>3-0</td>\n",
       "      <td>114</td>\n",
       "      <td>U</td>\n",
       "      <td>8.5</td>\n",
       "    </tr>\n",
       "    <tr>\n",
       "      <th>9</th>\n",
       "      <td>Aug 2, 2020</td>\n",
       "      <td>@ Minnesota</td>\n",
       "      <td>REG</td>\n",
       "      <td>L</td>\n",
       "      <td>3-1</td>\n",
       "      <td>113</td>\n",
       "      <td>U</td>\n",
       "      <td>9.5</td>\n",
       "    </tr>\n",
       "  </tbody>\n",
       "</table>\n",
       "</div>"
      ],
      "text/plain": [
       "           Date          Opponent Game Result Score  Line OU  Total\n",
       "0  Jul 24, 2020    vs Kansas City  REG      W   2-0  -220  U    9.0\n",
       "1  Jul 25, 2020    vs Kansas City  REG      L   3-2  -255  U    8.5\n",
       "2  Jul 26, 2020    vs Kansas City  REG      W   9-2  -210  O    9.0\n",
       "3  Jul 28, 2020  vs Chi White Sox  REG      W   4-3  -126  U   10.5\n",
       "4  Jul 28, 2020  vs Chi White Sox  REG      W   5-3  -121  U   10.5\n",
       "5  Jul 29, 2020  vs Chi White Sox  REG      L   4-0   106  U    9.0\n",
       "6  Jul 30, 2020       @ Minnesota  REG      W   2-0   114  U    8.5\n",
       "7  Jul 31, 2020       @ Minnesota  REG      L   4-1  -115  U    9.0\n",
       "8   Aug 1, 2020       @ Minnesota  REG      L   3-0   114  U    8.5\n",
       "9   Aug 2, 2020       @ Minnesota  REG      L   3-1   113  U    9.5"
      ]
     },
     "execution_count": 12,
     "metadata": {},
     "output_type": "execute_result"
    }
   ],
   "source": [
    "df1.head(10)"
   ]
  },
  {
   "cell_type": "code",
   "execution_count": 13,
   "metadata": {},
   "outputs": [
    {
     "name": "stdout",
     "output_type": "stream",
     "text": [
      "<class 'pandas.core.frame.DataFrame'>\n",
      "RangeIndex: 62 entries, 0 to 61\n",
      "Data columns (total 8 columns):\n",
      " #   Column    Non-Null Count  Dtype  \n",
      "---  ------    --------------  -----  \n",
      " 0   Date      62 non-null     object \n",
      " 1   Opponent  62 non-null     object \n",
      " 2   Game      62 non-null     object \n",
      " 3   Result    62 non-null     object \n",
      " 4   Score     62 non-null     object \n",
      " 5   Line      62 non-null     int64  \n",
      " 6   OU        62 non-null     object \n",
      " 7   Total     62 non-null     float64\n",
      "dtypes: float64(1), int64(1), object(6)\n",
      "memory usage: 4.0+ KB\n"
     ]
    }
   ],
   "source": [
    "df1.info()"
   ]
  },
  {
   "cell_type": "code",
   "execution_count": 14,
   "metadata": {},
   "outputs": [],
   "source": [
    "def line_to_prob(line):\n",
    "    prob_underdog = 100/(np.abs(line)+100) # this is the probability for the \n",
    "    add_term = ((1-np.sign(line))/2) # 0 if negative, 1 if positive\n",
    "    mult_factor = np.sign(line) # -1 if negative, 1 if positive\n",
    "    # if line is positive, team is underdog, give 0 + 1*prob_underdog\n",
    "    # if line is negative, team is favoritesm give 1 + (-1)*prob_underdog\n",
    "    imp_prob = add_term + mult_factor * prob_underdog \n",
    "    return(imp_prob)"
   ]
  },
  {
   "cell_type": "markdown",
   "metadata": {},
   "source": [
    "# Plan of Attack\n",
    "- Get the \"number\" for each team\n",
    "- Read the table for each team, and for each season (2019-2022)\n",
    "- Lightly process the data frame (remove playoffs, process date, add game_number, add\"source_team\", convert line)\n",
    "- Save each file"
   ]
  },
  {
   "cell_type": "code",
   "execution_count": 15,
   "metadata": {},
   "outputs": [],
   "source": [
    "# manually figure out what number in url corresponds to which team\n",
    "# use the 3 letter abbrev from retrosheet for each team\n",
    "\n",
    "oddsshark_num_to_team_dict = {}\n",
    "oddsshark_num_to_team_dict[26995]='PHI'\n",
    "oddsshark_num_to_team_dict[26996]='SDN'\n",
    "oddsshark_num_to_team_dict[26997]='SFN'\n",
    "oddsshark_num_to_team_dict[26998]='ANA'\n",
    "oddsshark_num_to_team_dict[26999]='DET'\n",
    "oddsshark_num_to_team_dict[27000]='CIN'\n",
    "oddsshark_num_to_team_dict[27001]='NYA'\n",
    "oddsshark_num_to_team_dict[27002]='TEX'\n",
    "oddsshark_num_to_team_dict[27003]='TBA'\n",
    "oddsshark_num_to_team_dict[27004]='COL'\n",
    "oddsshark_num_to_team_dict[27005]='MIN'\n",
    "oddsshark_num_to_team_dict[27006]='KCA'\n",
    "oddsshark_num_to_team_dict[27007]='ARI'\n",
    "oddsshark_num_to_team_dict[27008]='BAL'\n",
    "oddsshark_num_to_team_dict[27009]='ATL'\n",
    "oddsshark_num_to_team_dict[27010]='TOR'\n",
    "oddsshark_num_to_team_dict[27011]='SEA'\n",
    "oddsshark_num_to_team_dict[27012]='MIL'\n",
    "oddsshark_num_to_team_dict[27013]='PIT'\n",
    "oddsshark_num_to_team_dict[27014]='NYN'\n",
    "oddsshark_num_to_team_dict[27015]='LAN'\n",
    "oddsshark_num_to_team_dict[27016]='OAK'\n",
    "oddsshark_num_to_team_dict[27017]='WAS'\n",
    "oddsshark_num_to_team_dict[27018]='CHA'\n",
    "oddsshark_num_to_team_dict[27019]='SLN'\n",
    "oddsshark_num_to_team_dict[27020]='CHN'\n",
    "oddsshark_num_to_team_dict[27021]='BOS'\n",
    "oddsshark_num_to_team_dict[27022]='MIA'\n",
    "oddsshark_num_to_team_dict[27023]='HOU'\n",
    "oddsshark_num_to_team_dict[27024]='CLE'"
   ]
  },
  {
   "cell_type": "code",
   "execution_count": 20,
   "metadata": {},
   "outputs": [
    {
     "name": "stdout",
     "output_type": "stream",
     "text": [
      "CLE\n",
      "2019\n",
      "(162, 8)\n",
      "2020\n",
      "(60, 8)\n",
      "2021\n",
      "(162, 8)\n",
      "2022\n",
      "(162, 8)\n",
      "2023\n",
      "(162, 8)\n"
     ]
    }
   ],
   "source": [
    "for i in range(26995, 27025):\n",
    "    team_name = oddsshark_num_to_team_dict[i]\n",
    "    print(team_name)\n",
    "    for season in range(2019,2024):\n",
    "        print(season)\n",
    "        url = 'https://www.oddsshark.com/stats/gamelog/baseball/mlb/'+str(i)+'?season='+str(season)\n",
    "        df_temp = pd.read_html(url)[0]\n",
    "        df_temp = df_temp[df_temp.Game=='REG']\n",
    "        print(df_temp.shape)\n",
    "        df_temp['team_source'] = team_name\n",
    "        df_temp['season'] = season\n",
    "        df_temp['date_numeric'] = pd.to_datetime(df_temp.Date).astype(str).str.replace('-','')\n",
    "        df_temp['game_no'] = np.arange(1,df_temp.shape[0]+1)\n",
    "        df_temp['prob_implied'] = line_to_prob(df_temp['Line'])      \n",
    "        next_game_date = np.concatenate((df_temp['date_numeric'].iloc[1:],[0]))\n",
    "        previous_game_date = np.concatenate(([0], df_temp['date_numeric'].iloc[:-1]))\n",
    "        game_1_dblheader = (df_temp.date_numeric.to_numpy()==next_game_date).astype(int)\n",
    "        game_2_dblheader = (df_temp.date_numeric.to_numpy()==previous_game_date).astype(int)*2\n",
    "        df_temp['dblheader_num'] = game_1_dblheader+game_2_dblheader        \n",
    "        fname_out = 'oddsshark_files/' + 'oddsshark_'+team_name+'_'+str(season)+'.csv'\n",
    "        df_temp.to_csv(fname_out,index=False)\n",
    "        time.sleep(.05)"
   ]
  }
 ],
 "metadata": {
  "kernelspec": {
   "display_name": "base",
   "language": "python",
   "name": "python3"
  },
  "language_info": {
   "codemirror_mode": {
    "name": "ipython",
    "version": 3
   },
   "file_extension": ".py",
   "mimetype": "text/x-python",
   "name": "python",
   "nbconvert_exporter": "python",
   "pygments_lexer": "ipython3",
   "version": "3.11.5"
  }
 },
 "nbformat": 4,
 "nbformat_minor": 2
}
